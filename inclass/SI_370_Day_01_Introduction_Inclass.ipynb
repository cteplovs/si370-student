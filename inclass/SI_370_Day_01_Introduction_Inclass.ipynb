{
 "cells": [
  {
   "cell_type": "markdown",
   "metadata": {
    "cell_id": "00000-5f19917a-0a8b-481a-827b-b0af042c3f7c",
    "colab_type": "text",
    "deepnote_cell_type": "markdown",
    "id": "GXQHk10R_AQ2",
    "slideshow": {
     "slide_type": "slide"
    }
   },
   "source": [
    "<H1>SI 370 - Day 01: Introduction</H1>\n",
    "<br/>\n",
    "Dr. Chris Teplovs<br/>\n",
    "University of Michigan<br/>\n",
    "School of Information<br/>\n",
    "<p>\n",
    "Notebook version 23.1\n",
    "<p>\n",
    "<small><a rel=\"license\" href=\"http://creativecommons.org/licenses/by-nc-sa/4.0/\"><img alt=\"Creative Commons License\" style=\"border-width:0\" src=\"https://i.creativecommons.org/l/by-nc-sa/4.0/88x31.png\" /></a> This work is licensed under a <a rel=\"license\" href=\"http://creativecommons.org/licenses/by-nc-sa/4.0/\">Creative Commons Attribution-NonCommercial-ShareAlike 4.0 International License</a>.\n",
    "</small>\n",
    "</p>"
   ]
  },
  {
   "cell_type": "markdown",
   "metadata": {
    "cell_id": "00001-a975f552-bf1d-4b9f-b6ec-10d68f7115e1",
    "colab_type": "text",
    "deepnote_cell_type": "markdown",
    "id": "1a4rvnpk_AQ3",
    "slideshow": {
     "slide_type": "slide"
    }
   },
   "source": [
    "## Learning Objectives\n",
    "* refresh your memory of using Jupyter\n",
    "* remind you about some things that you can do using pandas\n",
    "* be able to run a class notebook\n",
    "* write your first code in this class\n",
    "* practice submitting an assignment"
   ]
  },
  {
   "cell_type": "markdown",
   "metadata": {
    "cell_id": "00004-aacb11b2-23fa-40ae-92b8-4a839ee05ffd",
    "colab_type": "text",
    "deepnote_cell_type": "markdown",
    "id": "ccXukBeS_AQ-",
    "slideshow": {
     "slide_type": "slide"
    }
   },
   "source": [
    "First, let's load the pandas library (this should be familiar to you):"
   ]
  },
  {
   "cell_type": "code",
   "execution_count": 1,
   "metadata": {
    "cell_id": "00005-5e70cf93-094e-4065-b77a-9bd81c0cb4f7",
    "colab": {},
    "colab_type": "code",
    "deepnote_cell_type": "code",
    "id": "ZidGDpKV_AQ-",
    "scrolled": true
   },
   "outputs": [],
   "source": [
    "import pandas as pd"
   ]
  },
  {
   "cell_type": "code",
   "execution_count": 2,
   "metadata": {},
   "outputs": [],
   "source": [
    "survey = pd.read_csv('../data/survey.csv')"
   ]
  },
  {
   "cell_type": "markdown",
   "metadata": {},
   "source": [
    "### <font color=\"magenta\">Q1: Write code to produce the following output:</font>\n",
    "<pre>\n",
    "(1259, 27)</pre>"
   ]
  },
  {
   "cell_type": "code",
   "execution_count": 2,
   "metadata": {},
   "outputs": [],
   "source": [
    "# insert your code here"
   ]
  },
  {
   "cell_type": "markdown",
   "metadata": {},
   "source": [
    "### <font color=\"magenta\">Q2: Write code to produce the following output:</font>\n",
    "<table border=\"1\" class=\"dataframe\">\n",
    "  <thead>\n",
    "    <tr style=\"text-align: right;\">\n",
    "      <th></th>\n",
    "      <th>Timestamp</th>\n",
    "      <th>Age</th>\n",
    "      <th>Gender</th>\n",
    "      <th>Country</th>\n",
    "      <th>state</th>\n",
    "      <th>self_employed</th>\n",
    "      <th>family_history</th>\n",
    "      <th>treatment</th>\n",
    "      <th>work_interfere</th>\n",
    "      <th>no_employees</th>\n",
    "      <th>...</th>\n",
    "      <th>leave</th>\n",
    "      <th>mental_health_consequence</th>\n",
    "      <th>phys_health_consequence</th>\n",
    "      <th>coworkers</th>\n",
    "      <th>supervisor</th>\n",
    "      <th>mental_health_interview</th>\n",
    "      <th>phys_health_interview</th>\n",
    "      <th>mental_vs_physical</th>\n",
    "      <th>obs_consequence</th>\n",
    "      <th>comments</th>\n",
    "    </tr>\n",
    "  </thead>\n",
    "  <tbody>\n",
    "    <tr>\n",
    "      <th>0</th>\n",
    "      <td>2014-08-27 11:29:31</td>\n",
    "      <td>37</td>\n",
    "      <td>Female</td>\n",
    "      <td>United States</td>\n",
    "      <td>IL</td>\n",
    "      <td>NaN</td>\n",
    "      <td>No</td>\n",
    "      <td>Yes</td>\n",
    "      <td>Often</td>\n",
    "      <td>6-25</td>\n",
    "      <td>...</td>\n",
    "      <td>Somewhat easy</td>\n",
    "      <td>No</td>\n",
    "      <td>No</td>\n",
    "      <td>Some of them</td>\n",
    "      <td>Yes</td>\n",
    "      <td>No</td>\n",
    "      <td>Maybe</td>\n",
    "      <td>Yes</td>\n",
    "      <td>No</td>\n",
    "      <td>NaN</td>\n",
    "    </tr>\n",
    "    <tr>\n",
    "      <th>1</th>\n",
    "      <td>2014-08-27 11:29:37</td>\n",
    "      <td>44</td>\n",
    "      <td>M</td>\n",
    "      <td>United States</td>\n",
    "      <td>IN</td>\n",
    "      <td>NaN</td>\n",
    "      <td>No</td>\n",
    "      <td>No</td>\n",
    "      <td>Rarely</td>\n",
    "      <td>More than 1000</td>\n",
    "      <td>...</td>\n",
    "      <td>Don't know</td>\n",
    "      <td>Maybe</td>\n",
    "      <td>No</td>\n",
    "      <td>No</td>\n",
    "      <td>No</td>\n",
    "      <td>No</td>\n",
    "      <td>No</td>\n",
    "      <td>Don't know</td>\n",
    "      <td>No</td>\n",
    "      <td>NaN</td>\n",
    "    </tr>\n",
    "    <tr>\n",
    "      <th>2</th>\n",
    "      <td>2014-08-27 11:29:44</td>\n",
    "      <td>32</td>\n",
    "      <td>Male</td>\n",
    "      <td>Canada</td>\n",
    "      <td>NaN</td>\n",
    "      <td>NaN</td>\n",
    "      <td>No</td>\n",
    "      <td>No</td>\n",
    "      <td>Rarely</td>\n",
    "      <td>6-25</td>\n",
    "      <td>...</td>\n",
    "      <td>Somewhat difficult</td>\n",
    "      <td>No</td>\n",
    "      <td>No</td>\n",
    "      <td>Yes</td>\n",
    "      <td>Yes</td>\n",
    "      <td>Yes</td>\n",
    "      <td>Yes</td>\n",
    "      <td>No</td>\n",
    "      <td>No</td>\n",
    "      <td>NaN</td>\n",
    "    </tr>\n",
    "    <tr>\n",
    "      <th>3</th>\n",
    "      <td>2014-08-27 11:29:46</td>\n",
    "      <td>31</td>\n",
    "      <td>Male</td>\n",
    "      <td>United Kingdom</td>\n",
    "      <td>NaN</td>\n",
    "      <td>NaN</td>\n",
    "      <td>Yes</td>\n",
    "      <td>Yes</td>\n",
    "      <td>Often</td>\n",
    "      <td>26-100</td>\n",
    "      <td>...</td>\n",
    "      <td>Somewhat difficult</td>\n",
    "      <td>Yes</td>\n",
    "      <td>Yes</td>\n",
    "      <td>Some of them</td>\n",
    "      <td>No</td>\n",
    "      <td>Maybe</td>\n",
    "      <td>Maybe</td>\n",
    "      <td>No</td>\n",
    "      <td>Yes</td>\n",
    "      <td>NaN</td>\n",
    "    </tr>\n",
    "    <tr>\n",
    "      <th>4</th>\n",
    "      <td>2014-08-27 11:30:22</td>\n",
    "      <td>31</td>\n",
    "      <td>Male</td>\n",
    "      <td>United States</td>\n",
    "      <td>TX</td>\n",
    "      <td>NaN</td>\n",
    "      <td>No</td>\n",
    "      <td>No</td>\n",
    "      <td>Never</td>\n",
    "      <td>100-500</td>\n",
    "      <td>...</td>\n",
    "      <td>Don't know</td>\n",
    "      <td>No</td>\n",
    "      <td>No</td>\n",
    "      <td>Some of them</td>\n",
    "      <td>Yes</td>\n",
    "      <td>Yes</td>\n",
    "      <td>Yes</td>\n",
    "      <td>Don't know</td>\n",
    "      <td>No</td>\n",
    "      <td>NaN</td>\n",
    "    </tr>\n",
    "  </tbody>\n",
    "</table>"
   ]
  },
  {
   "cell_type": "code",
   "execution_count": 1,
   "metadata": {},
   "outputs": [],
   "source": [
    "# insert your code here"
   ]
  },
  {
   "cell_type": "markdown",
   "metadata": {},
   "source": [
    "### <font color=\"magenta\">Q3: Write code that produces the following output:</font>"
   ]
  },
  {
   "cell_type": "markdown",
   "metadata": {},
   "source": [
    "<table border=\"1\" class=\"dataframe\">\n",
    "  <thead>\n",
    "    <tr style=\"text-align: right;\">\n",
    "      <th></th>\n",
    "      <th>Age</th>\n",
    "    </tr>\n",
    "  </thead>\n",
    "  <tbody>\n",
    "    <tr>\n",
    "      <th>count</th>\n",
    "      <td style=\"text-align: right;\">1259</td>\n",
    "    </tr>\n",
    "    <tr>\n",
    "      <th>mean</th>\n",
    "      <td style=\"text-align: right;\">79428148</td>\n",
    "    </tr>\n",
    "    <tr>\n",
    "      <th>std</th>\n",
    "      <td style=\"text-align: right;\">2818299443</td>\n",
    "    </tr>\n",
    "    <tr>\n",
    "      <th>min</th>\n",
    "      <td style=\"text-align: right;\">-1726</td>\n",
    "    </tr>\n",
    "    <tr>\n",
    "      <th>25%</th>\n",
    "      <td style=\"text-align: right;\">27</td>\n",
    "    </tr>\n",
    "    <tr>\n",
    "      <th>50%</th>\n",
    "      <td style=\"text-align: right;\">31</td>\n",
    "    </tr>\n",
    "    <tr>\n",
    "      <th>75%</th>\n",
    "      <td style=\"text-align: right;\">36</td>\n",
    "    </tr>\n",
    "    <tr>\n",
    "      <th>max</th>\n",
    "      <td style=\"text-align: right;\">99999999999</td>\n",
    "    </tr>\n",
    "  </tbody>\n",
    "</table>"
   ]
  },
  {
   "cell_type": "code",
   "execution_count": 3,
   "metadata": {},
   "outputs": [],
   "source": [
    "# insert your code here"
   ]
  },
  {
   "cell_type": "markdown",
   "metadata": {},
   "source": [
    "### <font color=\"magenta\">Q4: Assuming that the above variable (`Age`) refers to a human's age, what can you tell us about the data?  </font>\n",
    "See if you can use pandas to investigate further."
   ]
  },
  {
   "cell_type": "markdown",
   "metadata": {},
   "source": [
    "Insert your response here."
   ]
  },
  {
   "cell_type": "code",
   "execution_count": 29,
   "metadata": {},
   "outputs": [],
   "source": [
    "# insert your code here"
   ]
  },
  {
   "cell_type": "markdown",
   "metadata": {
    "cell_id": "00024-a8240e8c-02b5-4049-910c-d83f06f84195",
    "colab_type": "text",
    "deepnote_cell_type": "markdown",
    "id": "wPLuxCSI_ARd",
    "slideshow": {
     "slide_type": "slide"
    }
   },
   "source": [
    "END OF NOTEBOOK\n",
    "\n",
    "Remember to submit your work via Canvas."
   ]
  },
  {
   "cell_type": "code",
   "execution_count": null,
   "metadata": {},
   "outputs": [],
   "source": []
  }
 ],
 "metadata": {
  "colab": {
   "include_colab_link": true,
   "name": "370_01_Getting_Started.ipynb",
   "provenance": [],
   "toc_visible": true
  },
  "deepnote": {},
  "deepnote_execution_queue": [],
  "deepnote_notebook_id": "1910ef48-7699-4bc9-a209-9d7ad7af474d",
  "kernelspec": {
   "display_name": "Python 3 (ipykernel)",
   "language": "python",
   "name": "python3"
  },
  "language_info": {
   "codemirror_mode": {
    "name": "ipython",
    "version": 3
   },
   "file_extension": ".py",
   "mimetype": "text/x-python",
   "name": "python",
   "nbconvert_exporter": "python",
   "pygments_lexer": "ipython3",
   "version": "3.9.13"
  },
  "nteract": {
   "version": "nteract-on-jupyter@1.9.6"
  }
 },
 "nbformat": 4,
 "nbformat_minor": 4
}
