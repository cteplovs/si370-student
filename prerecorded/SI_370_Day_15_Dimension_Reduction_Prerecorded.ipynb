{
 "cells": [
  {
   "cell_type": "markdown",
   "metadata": {
    "slideshow": {
     "slide_type": "slide"
    }
   },
   "source": [
    "# SI 370: Dimension Reduction\n",
    "\n",
    "\n",
    "Note: some slides from Eytan Adar and Kevyn Collins-Thompson\n"
   ]
  },
  {
   "cell_type": "markdown",
   "metadata": {
    "slideshow": {
     "slide_type": "slide"
    }
   },
   "source": [
    "## Dimensions & Factors\n",
    "* Multi-Dimensional Scaling (MDS)\n",
    "* Principal components analysis (PCA)\n",
    "* t-distributed Stochastic Neighbor Embedding (t-SNE)"
   ]
  },
  {
   "cell_type": "markdown",
   "metadata": {
    "slideshow": {
     "slide_type": "slide"
    }
   },
   "source": [
    "![](https://github.com/umsi-data-science/si370/raw/master/resources/pca/Slide24.png)"
   ]
  },
  {
   "cell_type": "markdown",
   "metadata": {
    "slideshow": {
     "slide_type": "subslide"
    }
   },
   "source": [
    "![](https://github.com/umsi-data-science/si370/raw/master/resources/pca/Slide25.png)"
   ]
  },
  {
   "cell_type": "markdown",
   "metadata": {
    "slideshow": {
     "slide_type": "subslide"
    }
   },
   "source": [
    "![](https://github.com/umsi-data-science/si370/raw/master/resources/pca/Slide26.png)"
   ]
  },
  {
   "cell_type": "markdown",
   "metadata": {
    "slideshow": {
     "slide_type": "subslide"
    }
   },
   "source": [
    "![](https://github.com/umsi-data-science/si370/raw/master/resources/pca/Slide27.png)"
   ]
  },
  {
   "cell_type": "markdown",
   "metadata": {
    "slideshow": {
     "slide_type": "subslide"
    }
   },
   "source": [
    "![](https://github.com/umsi-data-science/si370/raw/master/resources/pca/Slide28.png)"
   ]
  },
  {
   "cell_type": "markdown",
   "metadata": {
    "slideshow": {
     "slide_type": "subslide"
    }
   },
   "source": [
    "![](https://github.com/umsi-data-science/si370/raw/master/resources/pca/Slide29.png)"
   ]
  },
  {
   "cell_type": "markdown",
   "metadata": {
    "slideshow": {
     "slide_type": "subslide"
    }
   },
   "source": [
    "![](https://github.com/umsi-data-science/si370/raw/master/resources/pca/Slide30.png)"
   ]
  },
  {
   "cell_type": "markdown",
   "metadata": {
    "slideshow": {
     "slide_type": "subslide"
    }
   },
   "source": [
    "![](https://github.com/umsi-data-science/si370/raw/master/resources/pca/Slide31.png)"
   ]
  },
  {
   "cell_type": "markdown",
   "metadata": {
    "slideshow": {
     "slide_type": "subslide"
    }
   },
   "source": [
    "![](https://github.com/umsi-data-science/si370/raw/master/resources/pca/Slide32.png)"
   ]
  },
  {
   "cell_type": "markdown",
   "metadata": {
    "slideshow": {
     "slide_type": "subslide"
    }
   },
   "source": [
    "![](https://github.com/umsi-data-science/si370/raw/master/resources/pca/Slide41.png)"
   ]
  },
  {
   "cell_type": "code",
   "execution_count": null,
   "metadata": {
    "slideshow": {
     "slide_type": "subslide"
    }
   },
   "outputs": [],
   "source": [
    "# Author: Nelle Varoquaux <nelle.varoquaux@gmail.com>\n",
    "\n",
    "import numpy as np\n",
    "\n",
    "from matplotlib import pyplot as plt\n",
    "from matplotlib.collections import LineCollection\n",
    "\n",
    "from sklearn import manifold\n",
    "from sklearn.metrics import euclidean_distances\n",
    "from sklearn.decomposition import PCA\n"
   ]
  },
  {
   "cell_type": "code",
   "execution_count": null,
   "metadata": {
    "slideshow": {
     "slide_type": "subslide"
    }
   },
   "outputs": [],
   "source": [
    "\n",
    "\n",
    "# The following code creates a synthetic dataset\n",
    "n_samples = 20\n",
    "seed = np.random.RandomState(seed=3)\n",
    "X_true = seed.randint(0, 20, 2 * n_samples).astype(np.float)\n",
    "X_true = X_true.reshape((n_samples, 2))\n",
    "# Center the data\n",
    "X_true -= X_true.mean()\n",
    "\n",
    "similarities = euclidean_distances(X_true)\n",
    "\n",
    "# Add noise to the similarities\n",
    "noise = np.random.rand(n_samples, n_samples)\n",
    "noise = noise + noise.T\n",
    "noise[np.arange(noise.shape[0]), np.arange(noise.shape[0])] = 0\n",
    "similarities += noise"
   ]
  },
  {
   "cell_type": "code",
   "execution_count": null,
   "metadata": {
    "slideshow": {
     "slide_type": "subslide"
    }
   },
   "outputs": [],
   "source": [
    "\n",
    "# Now create the metric and non-metric MDS models\n",
    "\n",
    "\n",
    "mds = manifold.MDS(n_components=2, max_iter=3000, eps=1e-9, random_state=seed,\n",
    "                   dissimilarity=\"precomputed\", n_jobs=1)\n",
    "pos = mds.fit(similarities).embedding_\n",
    "\n",
    "nmds = manifold.MDS(n_components=2, metric=False, max_iter=3000, eps=1e-12,\n",
    "                    dissimilarity=\"precomputed\", random_state=seed, n_jobs=1,\n",
    "                    n_init=1)\n",
    "npos = nmds.fit_transform(similarities, init=pos)\n",
    "\n",
    "# Rescale the data\n",
    "pos *= np.sqrt((X_true ** 2).sum()) / np.sqrt((pos ** 2).sum())\n",
    "npos *= np.sqrt((X_true ** 2).sum()) / np.sqrt((npos ** 2).sum())\n",
    "\n",
    "# Rotate the data so we can visualize in 2 dimensions\n",
    "clf = PCA(n_components=2)\n",
    "X_true = clf.fit_transform(X_true)\n",
    "\n",
    "pos = clf.fit_transform(pos)\n",
    "\n",
    "npos = clf.fit_transform(npos)\n"
   ]
  },
  {
   "cell_type": "code",
   "execution_count": null,
   "metadata": {
    "slideshow": {
     "slide_type": "subslide"
    }
   },
   "outputs": [],
   "source": [
    "fig = plt.figure(1)\n",
    "ax = plt.axes([0., 0., 1., 1.])\n",
    "\n",
    "s = 100\n",
    "plt.scatter(X_true[:, 0], X_true[:, 1], color='navy', s=s, lw=0,\n",
    "            label='True Position')\n",
    "plt.scatter(pos[:, 0], pos[:, 1], color='turquoise', s=s, lw=0, label='MDS')\n",
    "plt.scatter(npos[:, 0], npos[:, 1], color='darkorange', s=s, lw=0, label='NMDS')\n",
    "plt.legend(scatterpoints=1, loc='best', shadow=False)\n",
    "\n",
    "similarities = similarities.max() / similarities * 100\n",
    "similarities[np.isinf(similarities)] = 0\n",
    "\n",
    "# Plot the edges\n",
    "start_idx, end_idx = np.where(pos)\n",
    "# a sequence of (*line0*, *line1*, *line2*), where::\n",
    "#            linen = (x0, y0), (x1, y1), ... (xm, ym)\n",
    "segments = [[X_true[i, :], X_true[j, :]]\n",
    "            for i in range(len(pos)) for j in range(len(pos))]\n",
    "values = np.abs(similarities)\n",
    "lc = LineCollection(segments,\n",
    "                    zorder=0, cmap=plt.cm.Blues,\n",
    "                    norm=plt.Normalize(0, values.max()))\n",
    "lc.set_array(similarities.flatten())\n",
    "lc.set_linewidths(np.full(len(segments), 0.5))\n",
    "ax.add_collection(lc)\n",
    "\n",
    "plt.show()"
   ]
  },
  {
   "cell_type": "markdown",
   "metadata": {
    "slideshow": {
     "slide_type": "subslide"
    }
   },
   "source": [
    "Wait, what was that other dimension reduction we just did?\n"
   ]
  },
  {
   "cell_type": "markdown",
   "metadata": {
    "slideshow": {
     "slide_type": "slide"
    }
   },
   "source": [
    "## Principal Components Analysis (PCA)"
   ]
  },
  {
   "cell_type": "markdown",
   "metadata": {
    "slideshow": {
     "slide_type": "subslide"
    }
   },
   "source": [
    "![](https://github.com/umsi-data-science/si370/raw/master/resources/pca/Slide43.png)"
   ]
  },
  {
   "cell_type": "markdown",
   "metadata": {
    "slideshow": {
     "slide_type": "subslide"
    }
   },
   "source": [
    "![](https://github.com/umsi-data-science/si370/raw/master/resources/pca/Slide44.png)"
   ]
  },
  {
   "cell_type": "markdown",
   "metadata": {
    "slideshow": {
     "slide_type": "subslide"
    }
   },
   "source": [
    "![](https://github.com/umsi-data-science/si370/raw/master/resources/pca/Slide45.png)"
   ]
  },
  {
   "cell_type": "markdown",
   "metadata": {
    "slideshow": {
     "slide_type": "subslide"
    }
   },
   "source": [
    "![](https://github.com/umsi-data-science/si370/raw/master/resources/pca/Slide50.png)"
   ]
  },
  {
   "cell_type": "markdown",
   "metadata": {
    "slideshow": {
     "slide_type": "subslide"
    }
   },
   "source": [
    "![](https://github.com/umsi-data-science/si370/raw/master/resources/pca/Slide51.png)"
   ]
  },
  {
   "cell_type": "markdown",
   "metadata": {
    "slideshow": {
     "slide_type": "subslide"
    }
   },
   "source": [
    "![](https://github.com/umsi-data-science/si370/raw/master/resources/pca/Slide52.png)"
   ]
  },
  {
   "cell_type": "markdown",
   "metadata": {
    "slideshow": {
     "slide_type": "subslide"
    }
   },
   "source": [
    "![](https://github.com/umsi-data-science/si370/raw/master/resources/pca/Slide53.png)"
   ]
  },
  {
   "cell_type": "markdown",
   "metadata": {
    "slideshow": {
     "slide_type": "subslide"
    }
   },
   "source": [
    "![](https://github.com/umsi-data-science/si370/raw/master/resources/pca/Slide54.png)"
   ]
  },
  {
   "cell_type": "markdown",
   "metadata": {
    "slideshow": {
     "slide_type": "subslide"
    }
   },
   "source": [
    "![](https://github.com/umsi-data-science/si370/raw/master/resources/pca/Slide55.png)"
   ]
  },
  {
   "cell_type": "markdown",
   "metadata": {
    "slideshow": {
     "slide_type": "subslide"
    }
   },
   "source": [
    "![](https://github.com/umsi-data-science/si370/raw/master/resources/pca/Slide56.png)"
   ]
  },
  {
   "cell_type": "markdown",
   "metadata": {
    "slideshow": {
     "slide_type": "subslide"
    }
   },
   "source": [
    "![](https://github.com/umsi-data-science/si370/raw/master/resources/pca/Slide57.png)"
   ]
  },
  {
   "cell_type": "markdown",
   "metadata": {
    "slideshow": {
     "slide_type": "subslide"
    }
   },
   "source": [
    "![](https://github.com/umsi-data-science/si370/raw/master/resources/pca/Slide58.png)"
   ]
  },
  {
   "cell_type": "markdown",
   "metadata": {
    "slideshow": {
     "slide_type": "subslide"
    }
   },
   "source": [
    "![](https://github.com/umsi-data-science/si370/raw/master/resources/pca/Slide59.png)"
   ]
  },
  {
   "cell_type": "markdown",
   "metadata": {
    "slideshow": {
     "slide_type": "subslide"
    }
   },
   "source": [
    "![](https://github.com/umsi-data-science/si370/raw/master/resources/pca/Slide60.png)"
   ]
  },
  {
   "cell_type": "markdown",
   "metadata": {
    "slideshow": {
     "slide_type": "subslide"
    }
   },
   "source": [
    "![](https://github.com/umsi-data-science/si370/raw/master/resources/pca/Slide61.png)"
   ]
  },
  {
   "cell_type": "markdown",
   "metadata": {
    "slideshow": {
     "slide_type": "subslide"
    }
   },
   "source": [
    "![](https://github.com/umsi-data-science/si370/raw/master/resources/pca/Slide62.png)"
   ]
  },
  {
   "cell_type": "markdown",
   "metadata": {
    "slideshow": {
     "slide_type": "subslide"
    }
   },
   "source": [
    "![](https://github.com/umsi-data-science/si370/raw/master/resources/pca/Slide63.png)"
   ]
  },
  {
   "cell_type": "markdown",
   "metadata": {
    "slideshow": {
     "slide_type": "subslide"
    }
   },
   "source": [
    "![](https://github.com/umsi-data-science/si370/raw/master/resources/pca/Slide64.png)"
   ]
  },
  {
   "cell_type": "markdown",
   "metadata": {
    "slideshow": {
     "slide_type": "subslide"
    }
   },
   "source": [
    "![](https://github.com/umsi-data-science/si370/raw/master/resources/pca/Slide65.png)"
   ]
  },
  {
   "cell_type": "markdown",
   "metadata": {
    "slideshow": {
     "slide_type": "subslide"
    }
   },
   "source": [
    "![](https://github.com/umsi-data-science/si370/raw/master/resources/pca/Slide66.png)"
   ]
  },
  {
   "cell_type": "code",
   "execution_count": null,
   "metadata": {
    "slideshow": {
     "slide_type": "slide"
    }
   },
   "outputs": [],
   "source": [
    "# loading libraries\n",
    "\n",
    "import pandas as pd\n",
    "import numpy as np\n",
    "import matplotlib.pyplot as plt"
   ]
  },
  {
   "cell_type": "code",
   "execution_count": null,
   "metadata": {
    "slideshow": {
     "slide_type": "subslide"
    }
   },
   "outputs": [],
   "source": [
    "# loading the data\n",
    "\n",
    "data = pd.read_csv(\"https://docs.google.com/spreadsheets/d/e/2PACX-1vSb23GQT6cvFueM0yWDZ6YAFjVlLKUb_7fdMHsmQb6x84iXC3bCWgzXjnxLr15gniYY-oOPjOn0dv0o/pub?gid=0&single=true&output=csv\")\n",
    "#data = data.drop([\"Channel\", \"Region\"], axis=1)\n",
    "data.head(10)"
   ]
  },
  {
   "cell_type": "code",
   "execution_count": null,
   "metadata": {
    "slideshow": {
     "slide_type": "subslide"
    }
   },
   "outputs": [],
   "source": [
    "data = data.dropna()"
   ]
  },
  {
   "cell_type": "code",
   "execution_count": null,
   "metadata": {},
   "outputs": [],
   "source": [
    "data = data.drop('Name',axis=1)"
   ]
  },
  {
   "cell_type": "code",
   "execution_count": null,
   "metadata": {
    "slideshow": {
     "slide_type": "subslide"
    }
   },
   "outputs": [],
   "source": [
    "# scaling the data before PCA\n",
    "\n",
    "from sklearn.preprocessing import scale\n",
    "\n",
    "data = pd.DataFrame(scale(data), columns=['Blues', 'Classical', 'Country', 'Electronic', 'Folk', 'Hip Hop', 'Jazz', 'Latin','Pop','RandB_Soul','Rock'])\n"
   ]
  },
  {
   "cell_type": "code",
   "execution_count": null,
   "metadata": {
    "slideshow": {
     "slide_type": "subslide"
    }
   },
   "outputs": [],
   "source": [
    "data.head()"
   ]
  },
  {
   "cell_type": "code",
   "execution_count": null,
   "metadata": {
    "slideshow": {
     "slide_type": "subslide"
    }
   },
   "outputs": [],
   "source": [
    "# implementing PCA\n",
    "\n",
    "from sklearn.decomposition import PCA\n",
    "\n",
    "pca = PCA(n_components=6).fit(data)\n",
    "pca_samples = pca.transform(data)"
   ]
  },
  {
   "cell_type": "code",
   "execution_count": null,
   "metadata": {
    "slideshow": {
     "slide_type": "subslide"
    }
   },
   "outputs": [],
   "source": [
    "def pca_results(data, pca):\n",
    "    \n",
    "    # Dimension indexing\n",
    "    dimensions = ['Dimension {}'.format(i) for i in range(1,len(pca.components_)+1)]\n",
    "    \n",
    "    # PCA components\n",
    "    components = pd.DataFrame(np.round(pca.components_, 4), columns = data.keys()) \n",
    "    components.index = dimensions\n",
    "\n",
    "    # PCA explained variance\n",
    "    ratios = pca.explained_variance_ratio_.reshape(len(pca.components_), 1) \n",
    "    variance_ratios = pd.DataFrame(np.round(ratios, 4), columns = ['Explained Variance']) \n",
    "    variance_ratios.index = dimensions\n",
    "\n",
    "    # Create a bar plot visualization\n",
    "    fig, ax = plt.subplots(figsize = (14,8))\n",
    "\n",
    "    # Plot the feature weights as a function of the components\n",
    "    components.plot(ax = ax, kind = 'bar')\n",
    "    ax.set_ylabel(\"Feature Weights\") \n",
    "    ax.set_xticklabels(dimensions, rotation=0)\n",
    "\n",
    "    # Display the explained variance ratios# \n",
    "    for i, ev in enumerate(pca.explained_variance_ratio_): \n",
    "        ax.text(i-0.40, ax.get_ylim()[1] + 0.05, \"Explained Variance\\n %.4f\"%(ev))\n",
    "\n",
    "    # Return a concatenated DataFrame\n",
    "    return pd.concat([variance_ratios, components], axis = 1)\n",
    "\n",
    "pca_results = pca_results(data, pca)"
   ]
  },
  {
   "cell_type": "code",
   "execution_count": null,
   "metadata": {
    "slideshow": {
     "slide_type": "subslide"
    }
   },
   "outputs": [],
   "source": [
    "pca_results.cumsum()"
   ]
  },
  {
   "cell_type": "markdown",
   "metadata": {
    "slideshow": {
     "slide_type": "subslide"
    }
   },
   "source": [
    "![](https://github.com/umsi-data-science/si370/raw/master/resources/pca/Slide68.png)"
   ]
  },
  {
   "cell_type": "markdown",
   "metadata": {
    "slideshow": {
     "slide_type": "subslide"
    }
   },
   "source": [
    "![](https://github.com/umsi-data-science/si370/raw/master/resources/pca/Slide69.png)"
   ]
  },
  {
   "cell_type": "code",
   "execution_count": null,
   "metadata": {
    "slideshow": {
     "slide_type": "subslide"
    }
   },
   "outputs": [],
   "source": [
    "# Explained variance\n",
    "plt.plot(pca.explained_variance_ratio_)\n",
    "plt.xlabel('number of components')\n",
    "plt.ylabel('explained variance')\n",
    "plt.show()"
   ]
  },
  {
   "cell_type": "markdown",
   "metadata": {
    "slideshow": {
     "slide_type": "subslide"
    }
   },
   "source": [
    "![](https://github.com/umsi-data-science/si370/raw/master/resources/pca/Slide70.png)"
   ]
  },
  {
   "cell_type": "markdown",
   "metadata": {
    "slideshow": {
     "slide_type": "slide"
    }
   },
   "source": [
    "## t-distributed Stochastic Neighbor Embedding (t-SNE)\n",
    "\n",
    "additional slides: https://docs.google.com/presentation/d/1-JGfXOpHuw6taIvCtEWS_N3cDcE2v0kXSzN63pGSAxU/edit?usp=sharing\n",
    "\n",
    "\n",
    "code based on https://scipy-lectures.org/packages/scikit-learn/auto_examples/plot_tsne.html"
   ]
  },
  {
   "cell_type": "markdown",
   "metadata": {
    "slideshow": {
     "slide_type": "subslide"
    }
   },
   "source": [
    "Here, we will use another dimension reduction technique, t-SNE, on an image dataset consisting of digits. Our goal here is to see whether images of the same digit are grouped together in 2-D visualizations.\n",
    "\n",
    "First, let's load the dataset."
   ]
  },
  {
   "cell_type": "code",
   "execution_count": null,
   "metadata": {
    "slideshow": {
     "slide_type": "subslide"
    }
   },
   "outputs": [],
   "source": [
    "from sklearn.datasets import load_digits\n",
    "digits = load_digits()"
   ]
  },
  {
   "cell_type": "code",
   "execution_count": null,
   "metadata": {
    "slideshow": {
     "slide_type": "subslide"
    }
   },
   "outputs": [],
   "source": [
    "digits"
   ]
  },
  {
   "cell_type": "markdown",
   "metadata": {
    "slideshow": {
     "slide_type": "subslide"
    }
   },
   "source": [
    "The dataset is a dictionary containing multiple arrays.\n",
    "\n",
    "\n",
    "|Key   |Value  |Description  |\n",
    "| --- | --- | --- |\n",
    "| image | numpy array (1797,8,8) | An 8x8 array for every image in the dataset |\n",
    "| data | numpy array (1797,64) | An 64 array for every image in the dataset |\n",
    "| target | numpy array (1797,) | A list containing the label(=digit) for every image in the dataset |"
   ]
  },
  {
   "cell_type": "markdown",
   "metadata": {
    "slideshow": {
     "slide_type": "subslide"
    }
   },
   "source": [
    "What does each image look like?"
   ]
  },
  {
   "cell_type": "code",
   "execution_count": null,
   "metadata": {},
   "outputs": [],
   "source": [
    "digits.images[0]"
   ]
  },
  {
   "cell_type": "markdown",
   "metadata": {
    "slideshow": {
     "slide_type": "subslide"
    }
   },
   "source": [
    "When dealing with images in Python, each image is stored as an array, where the location of each value corresponds to its pixel location. The stored value is the color value of that pixel, which ranges between 0-1 or 0-255. When dealing with color images, an image becomes a combination of three different layers (RGB). Here, we are dealing with black and white images, so there is only one dimension."
   ]
  },
  {
   "cell_type": "code",
   "execution_count": null,
   "metadata": {
    "slideshow": {
     "slide_type": "subslide"
    }
   },
   "outputs": [],
   "source": [
    "# when plotted as an image\n",
    "import matplotlib.pyplot as plt\n",
    "import seaborn as sns\n",
    "\n",
    "%matplotlib inline\n",
    "rows = 3\n",
    "cols = 3\n",
    "figsize = (5, 5)\n",
    "\n",
    "fig1, axs = plt.subplots(rows, cols, figsize=figsize, constrained_layout=True)\n",
    "for i in range(rows):\n",
    "    for j in range(cols):\n",
    "        axs[i,j].imshow(digits.images[i*3+j])\n",
    "#         axs[i,j]\n",
    "plt.show()"
   ]
  },
  {
   "cell_type": "code",
   "execution_count": null,
   "metadata": {
    "slideshow": {
     "slide_type": "subslide"
    }
   },
   "outputs": [],
   "source": [
    "# import t-SNE package from sklearn\n",
    "from sklearn.manifold import TSNE"
   ]
  },
  {
   "cell_type": "code",
   "execution_count": null,
   "metadata": {},
   "outputs": [],
   "source": [
    "tsne = TSNE(n_components=2, random_state=0)\n",
    "X = digits.data\n",
    "X_2d = tsne.fit_transform(X)"
   ]
  },
  {
   "cell_type": "code",
   "execution_count": null,
   "metadata": {
    "scrolled": true,
    "slideshow": {
     "slide_type": "subslide"
    }
   },
   "outputs": [],
   "source": [
    "digits.data[0]"
   ]
  },
  {
   "cell_type": "code",
   "execution_count": null,
   "metadata": {
    "slideshow": {
     "slide_type": "subslide"
    }
   },
   "outputs": [],
   "source": [
    "X_2d[0]"
   ]
  },
  {
   "cell_type": "code",
   "execution_count": null,
   "metadata": {
    "slideshow": {
     "slide_type": "subslide"
    }
   },
   "outputs": [],
   "source": [
    "# change to dataframe so that we can run it on seaborn\n",
    "import pandas as pd\n",
    "out = []\n",
    "for i,(x,y) in enumerate(X_2d):\n",
    "    out.append((digits.target[i],x,y))\n",
    "df = pd.DataFrame(out,columns=['digit','x','y'])\n",
    "plt.figure(figsize=(10,10))\n",
    "sns.scatterplot(data=df,x='x',y='y',hue='digit',legend='full',palette='Set2')\n",
    "plt.show()"
   ]
  },
  {
   "cell_type": "markdown",
   "metadata": {
    "slideshow": {
     "slide_type": "subslide"
    }
   },
   "source": [
    "The default hyperparameters provided by sklearn are perplexity=30.0 and n_iter=1000.\n",
    "\n",
    "See how changing these values can change the separation of the numbers. Typically perplexity works best between 5 and 50. The more number of iterations you run, the better the results will be, but it might take too long to converge. Or it could be that 1000 iterations is already too much, and it can converge even with fewer iterations.\n"
   ]
  },
  {
   "cell_type": "code",
   "execution_count": null,
   "metadata": {
    "slideshow": {
     "slide_type": "subslide"
    }
   },
   "outputs": [],
   "source": [
    "perplexity = 50\n",
    "n_iter = 500 \n",
    "tsne = TSNE(n_components=2, random_state=0, perplexity=perplexity, n_iter=n_iter)\n",
    "X_2d = tsne.fit_transform(X)\n",
    "out = []\n",
    "for i,(x,y) in enumerate(X_2d):\n",
    "    out.append((digits.target[i],x,y))\n",
    "df = pd.DataFrame(out,columns=['digit','x','y'])\n",
    "plt.figure(figsize=(10,10))\n",
    "sns.scatterplot(data=df,x='x',y='y',hue='digit',legend='full',palette='Set2')\n",
    "plt.show()"
   ]
  },
  {
   "cell_type": "code",
   "execution_count": null,
   "metadata": {
    "slideshow": {
     "slide_type": "subslide"
    }
   },
   "outputs": [],
   "source": [
    "X_2d = PCA(n_components=2).fit_transform(X)\n",
    "out = []\n",
    "for i,(x,y) in enumerate(X_2d):\n",
    "    out.append((digits.target[i],x,y))\n",
    "df = pd.DataFrame(out,columns=['digit','x','y'])\n",
    "plt.figure(figsize=(10,10))\n",
    "sns.scatterplot(data=df,x='x',y='y',hue='digit',legend='full',palette='Set2')\n",
    "plt.show()"
   ]
  },
  {
   "cell_type": "markdown",
   "metadata": {
    "slideshow": {
     "slide_type": "slide"
    }
   },
   "source": [
    "\n"
   ]
  },
  {
   "cell_type": "markdown",
   "metadata": {},
   "source": [
    " \n",
    " "
   ]
  },
  {
   "cell_type": "code",
   "execution_count": null,
   "metadata": {},
   "outputs": [],
   "source": []
  }
 ],
 "metadata": {
  "celltoolbar": "Slideshow",
  "kernelspec": {
   "display_name": "Python 3",
   "language": "python",
   "name": "python3"
  },
  "language_info": {
   "codemirror_mode": {
    "name": "ipython",
    "version": 3
   },
   "file_extension": ".py",
   "mimetype": "text/x-python",
   "name": "python",
   "nbconvert_exporter": "python",
   "pygments_lexer": "ipython3",
   "version": "3.6.10"
  }
 },
 "nbformat": 4,
 "nbformat_minor": 2
}
