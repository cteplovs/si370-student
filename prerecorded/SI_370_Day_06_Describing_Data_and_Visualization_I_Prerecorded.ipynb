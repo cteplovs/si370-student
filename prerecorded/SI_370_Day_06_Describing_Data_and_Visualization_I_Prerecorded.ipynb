{
 "cells": [
  {
   "cell_type": "markdown",
   "metadata": {
    "slideshow": {
     "slide_type": "slide"
    }
   },
   "source": [
    "# SI 370 - Day 6: Univariate and Visual Analysis I\n",
    "\n"
   ]
  },
  {
   "cell_type": "markdown",
   "metadata": {
    "slideshow": {
     "slide_type": "slide"
    }
   },
   "source": [
    "# Overview of today \n",
    "\n",
    "- understand why getting a feel for your data is important\n",
    "- be able to calculate some basic descriptive statistics\n",
    " - measures of central tendency \n",
    " - measures of dispersion\n",
    "- know how to make visualizations using the Seaborn library\n",
    "- be able to recognize different distributions using visual and analytic techniques\n",
    "\n",
    "\n"
   ]
  },
  {
   "cell_type": "markdown",
   "metadata": {
    "slideshow": {
     "slide_type": "slide"
    }
   },
   "source": [
    "# So, you want to explore your data...\n",
    "* How can we describe it?\n",
    "* What does it look like?\n",
    "* What sorts of \"preliminary checks\" can we perform on our data? \n",
    " * Why would we want to to this?"
   ]
  },
  {
   "cell_type": "markdown",
   "metadata": {
    "slideshow": {
     "slide_type": "slide"
    }
   },
   "source": [
    "# Think about plotting the relationship between X and Y\n",
    "![](../assets/AnscombeData.png)\n",
    "(https://en.wikipedia.org/wiki/Anscombe's_quartet)"
   ]
  },
  {
   "cell_type": "markdown",
   "metadata": {
    "slideshow": {
     "slide_type": "subslide"
    }
   },
   "source": [
    "# A nice linear relationship, right?\n",
    "![](../assets/AnscombeQ1.png)\n",
    "(https://en.wikipedia.org/wiki/Anscombe's_quartet)"
   ]
  },
  {
   "cell_type": "markdown",
   "metadata": {
    "slideshow": {
     "slide_type": "subslide"
    }
   },
   "source": [
    "# Anscombe's Quartet\n",
    "![](../assets/AnscombePlot.png)\n",
    "(https://en.wikipedia.org/wiki/Anscombe's_quartet)"
   ]
  },
  {
   "cell_type": "markdown",
   "metadata": {
    "slideshow": {
     "slide_type": "slide"
    }
   },
   "source": [
    "# Why do we care?\n",
    "\n",
    "* Statistical analysis requires good inputs\n",
    " * Remember Anscombe’s quartet\n",
    " * Which model should we use?\n",
    " * Tendencies/trends/patterns in data are important in picking the right models\n",
    "* Anomalies are important to detect and understand\n",
    "\n",
    "\n"
   ]
  },
  {
   "cell_type": "markdown",
   "metadata": {
    "slideshow": {
     "slide_type": "subslide"
    }
   },
   "source": [
    "## Purpose of EDA (broadly)\n",
    "* maximize insight into a data set\n",
    "* uncover underlying structure\n",
    "* extract important variables\n",
    "* detect outliers and anomalies\n",
    "* test underlying assumptions\n",
    "* develop parsimonious models and\n",
    "* determine optimal factor settings.\n",
    "\n",
    "(National Institute of Standards and Technology)"
   ]
  },
  {
   "cell_type": "markdown",
   "metadata": {
    "slideshow": {
     "slide_type": "subslide"
    }
   },
   "source": [
    "## Our primary goal in this class: understand the _downstream_ statistical analyses enough so that we can make good decisions"
   ]
  },
  {
   "cell_type": "markdown",
   "metadata": {
    "slideshow": {
     "slide_type": "slide"
    }
   },
   "source": [
    "# Spherical cows\n",
    "The phrase comes from a joke that spoofs the simplifying assumptions that are sometimes used in theoretical physics.\n",
    "\n",
    ">Milk production at a dairy farm was low, so the farmer wrote to the local university, asking for help from academia. A multidisciplinary team of professors was assembled, headed by a theoretical physicist, and two weeks of intensive on-site investigation took place. The scholars then returned to the university, notebooks crammed with data, where the task of writing the report was left to the team leader. Shortly thereafter the physicist returned to the farm, saying to the farmer, \"I have the solution, but it works only in the case of spherical cows in a vacuum\". [Wikipedia](https://en.wikipedia.org/wiki/Spherical_cow)\n",
    "\n",
    "![Spherical cow](../assets/Spot_the_cow.gif)\n",
    "\n",
    "\n"
   ]
  },
  {
   "cell_type": "markdown",
   "metadata": {
    "slideshow": {
     "slide_type": "subslide"
    }
   },
   "source": [
    "## The average weight of a Jersey cow is 1,000 lbs.\n",
    "![](../assets/jersey.jpg)"
   ]
  },
  {
   "cell_type": "markdown",
   "metadata": {
    "slideshow": {
     "slide_type": "slide"
    }
   },
   "source": [
    "# Let's make some spherical cows..."
   ]
  },
  {
   "cell_type": "code",
   "execution_count": 2,
   "metadata": {
    "slideshow": {
     "slide_type": "-"
    }
   },
   "outputs": [],
   "source": [
    "import numpy as np\n",
    "import pandas as pd\n",
    "import seaborn as sns"
   ]
  },
  {
   "cell_type": "code",
   "execution_count": 3,
   "metadata": {
    "scrolled": true,
    "slideshow": {
     "slide_type": "skip"
    }
   },
   "outputs": [
    {
     "data": {
      "text/plain": [
       "array([ 786,  856,  942, 1125,  907,  908, 1180,  961,  794, 1111, 1031,\n",
       "        998, 1025, 1176,  877,  904,  876, 1059,  935, 1015, 1105, 1129,\n",
       "       1090,  978, 1052,  912,  991, 1297, 1017, 1023, 1169, 1242,  805,\n",
       "       1159, 1067, 1227, 1089, 1179, 1143, 1066, 1032, 1114,  928, 1138,\n",
       "        951,  893,  954,  980,  803, 1121,  783,  704,  863, 1131, 1021,\n",
       "        947,  930, 1117,  840, 1179,  911, 1026,  772,  886,  795, 1137,\n",
       "        970,  970, 1042,  645,  959,  972,  921, 1172,  891, 1253,  875,\n",
       "        743,  912, 1054])"
      ]
     },
     "execution_count": 3,
     "metadata": {},
     "output_type": "execute_result"
    }
   ],
   "source": [
    "# The weights of a herd of 80 cows\n",
    "np.random.seed(370)\n",
    "measures = (np.random.standard_normal(80)*150+1000).astype(int)\n",
    "measures"
   ]
  },
  {
   "cell_type": "code",
   "execution_count": 4,
   "metadata": {},
   "outputs": [
    {
     "data": {
      "text/plain": [
       "array([ 786,  856,  942, 1125,  907,  908, 1180,  961,  794, 1111, 1031,\n",
       "        998, 1025, 1176,  877,  904,  876, 1059,  935, 1015, 1105, 1129,\n",
       "       1090,  978, 1052,  912,  991, 1297, 1017, 1023, 1169, 1242,  805,\n",
       "       1159, 1067, 1227, 1089, 1179, 1143, 1066, 1032, 1114,  928, 1138,\n",
       "        951,  893,  954,  980,  803, 1121,  783,  704,  863, 1131, 1021,\n",
       "        947,  930, 1117,  840, 1179,  911, 1026,  772,  886,  795, 1137,\n",
       "        970,  970, 1042,  645,  959,  972,  921, 1172,  891, 1253,  875,\n",
       "        743,  912, 1054])"
      ]
     },
     "execution_count": 4,
     "metadata": {},
     "output_type": "execute_result"
    }
   ],
   "source": [
    "# The weights of a herd of 80 cows\n",
    "np.random.seed(370)\n",
    "measures = np.random.normal(loc=1000,scale=150,size=80).astype(int) # note kwargs\n",
    "measures"
   ]
  },
  {
   "cell_type": "code",
   "execution_count": 5,
   "metadata": {},
   "outputs": [
    {
     "data": {
      "text/plain": [
       "array([ 786,  856,  942, 1125,  907,  908, 1180,  961,  794, 1111, 1031,\n",
       "        998, 1025, 1176,  877,  904,  876, 1059,  935, 1015, 1105, 1129,\n",
       "       1090,  978, 1052,  912,  991, 1297, 1017, 1023, 1169, 1242,  805,\n",
       "       1159, 1067, 1227, 1089, 1179, 1143, 1066, 1032, 1114,  928, 1138,\n",
       "        951,  893,  954,  980,  803, 1121,  783,  704,  863, 1131, 1021,\n",
       "        947,  930, 1117,  840, 1179,  911, 1026,  772,  886,  795, 1137,\n",
       "        970,  970, 1042,  645,  959,  972,  921, 1172,  891, 1253,  875,\n",
       "        743,  912, 1054])"
      ]
     },
     "execution_count": 5,
     "metadata": {},
     "output_type": "execute_result"
    }
   ],
   "source": [
    "np.random.seed(370)\n",
    "measures = np.random.normal(size=80,loc=1000,scale=150).astype(int) # note kwargs allow any order of arguments\n",
    "measures"
   ]
  },
  {
   "cell_type": "code",
   "execution_count": 6,
   "metadata": {},
   "outputs": [
    {
     "data": {
      "text/plain": [
       "array([ 786,  856,  942, 1125,  907,  908, 1180,  961,  794, 1111, 1031,\n",
       "        998, 1025, 1176,  877,  904,  876, 1059,  935, 1015, 1105, 1129,\n",
       "       1090,  978, 1052,  912,  991, 1297, 1017, 1023, 1169, 1242,  805,\n",
       "       1159, 1067, 1227, 1089, 1179, 1143, 1066, 1032, 1114,  928, 1138,\n",
       "        951,  893,  954,  980,  803, 1121,  783,  704,  863, 1131, 1021,\n",
       "        947,  930, 1117,  840, 1179,  911, 1026,  772,  886,  795, 1137,\n",
       "        970,  970, 1042,  645,  959,  972,  921, 1172,  891, 1253,  875,\n",
       "        743,  912, 1054])"
      ]
     },
     "execution_count": 6,
     "metadata": {},
     "output_type": "execute_result"
    }
   ],
   "source": [
    "np.random.seed(370)\n",
    "measures = np.random.normal(1000,150,80).astype(int) # note use of args (not kwargs); must use this order\n",
    "measures"
   ]
  },
  {
   "cell_type": "markdown",
   "metadata": {
    "slideshow": {
     "slide_type": "slide"
    }
   },
   "source": [
    "## Create some objects of your own\n",
    "Think of some object and some property of that object.  I used cows and their weights.  Pick something that you know something about, and create a NumPy array of some number of them (ideally between 20 and 50000), recording some property.  So you might choose something like the height of undergraduate students, etc.  Pick something that will *likely* have a normal distribution (which is probably most things you can think of).</font>\n",
    "\n",
    "First, pick the number that you want and assign it to numberOfObjects, then pick the mean value and assign it to meanOfProperty, and finally pick the standard deviation and assign it to standardDevitationOfProperty.  It doesn't matter what you pick, but if you're unsure pick 1/5 of the mean."
   ]
  },
  {
   "cell_type": "code",
   "execution_count": 7,
   "metadata": {
    "slideshow": {
     "slide_type": "subslide"
    }
   },
   "outputs": [],
   "source": [
    "numberOfObjects = 0    # change 0 to some number between 20 and 50000\n",
    "meanOfProperty = 0     # change 0 to the mean value of the property you're interested in\n",
    "standardDeviationOfProperty = 0 # change 0 to the variance of the property -- try meanOfProperty/5 if you have no idea"
   ]
  },
  {
   "cell_type": "markdown",
   "metadata": {
    "slideshow": {
     "slide_type": "subslide"
    }
   },
   "source": [
    "Now create some data by asking for a random sample from a normal distribution, scaled so that it matches the mean and variance you want:"
   ]
  },
  {
   "cell_type": "code",
   "execution_count": 8,
   "metadata": {
    "slideshow": {
     "slide_type": "-"
    }
   },
   "outputs": [
    {
     "data": {
      "text/plain": [
       "array([], dtype=int64)"
      ]
     },
     "execution_count": 8,
     "metadata": {},
     "output_type": "execute_result"
    }
   ],
   "source": [
    "things = np.random.normal(size=numberOfObjects,loc=meanOfProperty,scale=standardDeviationOfProperty)\n",
    "things = things.astype(int)\n",
    "things[:10]"
   ]
  },
  {
   "cell_type": "markdown",
   "metadata": {
    "slideshow": {
     "slide_type": "slide"
    }
   },
   "source": [
    "<div style=\"width:100%;height:400px;padding:10px;background-color:#\"></div>"
   ]
  },
  {
   "cell_type": "markdown",
   "metadata": {
    "slideshow": {
     "slide_type": "slide"
    }
   },
   "source": [
    "## Measures of central tendency\n",
    "* Mean\n",
    "* Median \n",
    "* Mode"
   ]
  },
  {
   "cell_type": "markdown",
   "metadata": {
    "slideshow": {
     "slide_type": "subslide"
    }
   },
   "source": [
    "## Mean\n",
    "\n",
    "Add up all the values and divide by the number of values:\n",
    "\n",
    "$$mean = \\frac {\\sum{x_i}} {n}$$\n"
   ]
  },
  {
   "cell_type": "code",
   "execution_count": 9,
   "metadata": {
    "slideshow": {
     "slide_type": "-"
    }
   },
   "outputs": [
    {
     "data": {
      "text/plain": [
       "994.2625"
      ]
     },
     "execution_count": 9,
     "metadata": {},
     "output_type": "execute_result"
    }
   ],
   "source": [
    "sum(measures)/len(measures)"
   ]
  },
  {
   "cell_type": "code",
   "execution_count": 10,
   "metadata": {
    "slideshow": {
     "slide_type": "-"
    }
   },
   "outputs": [
    {
     "data": {
      "text/plain": [
       "994.2625"
      ]
     },
     "execution_count": 10,
     "metadata": {},
     "output_type": "execute_result"
    }
   ],
   "source": [
    "np.mean(measures) # find the mean"
   ]
  },
  {
   "cell_type": "markdown",
   "metadata": {
    "slideshow": {
     "slide_type": "subslide"
    }
   },
   "source": [
    "## Median\n",
    "\n",
    "sort all the numbers and find the one in the middle"
   ]
  },
  {
   "cell_type": "code",
   "execution_count": 11,
   "metadata": {
    "slideshow": {
     "slide_type": "-"
    }
   },
   "outputs": [
    {
     "data": {
      "text/plain": [
       "array([ 645,  704,  743,  772,  783,  786,  794,  795,  803,  805,  840,\n",
       "        856,  863,  875,  876,  877,  886,  891,  893,  904,  907,  908,\n",
       "        911,  912,  912,  921,  928,  930,  935,  942,  947,  951,  954,\n",
       "        959,  961,  970,  970,  972,  978,  980,  991,  998, 1015, 1017,\n",
       "       1021, 1023, 1025, 1026, 1031, 1032, 1042, 1052, 1054, 1059, 1066,\n",
       "       1067, 1089, 1090, 1105, 1111, 1114, 1117, 1121, 1125, 1129, 1131,\n",
       "       1137, 1138, 1143, 1159, 1169, 1172, 1176, 1179, 1179, 1180, 1227,\n",
       "       1242, 1253, 1297])"
      ]
     },
     "execution_count": 11,
     "metadata": {},
     "output_type": "execute_result"
    }
   ],
   "source": [
    "measures = np.sort(measures)\n",
    "measures"
   ]
  },
  {
   "cell_type": "code",
   "execution_count": 12,
   "metadata": {
    "slideshow": {
     "slide_type": "-"
    }
   },
   "outputs": [
    {
     "data": {
      "text/plain": [
       "991"
      ]
     },
     "execution_count": 12,
     "metadata": {},
     "output_type": "execute_result"
    }
   ],
   "source": [
    "measures[len(measures)//2]  # find middle value"
   ]
  },
  {
   "cell_type": "code",
   "execution_count": 13,
   "metadata": {},
   "outputs": [
    {
     "data": {
      "text/plain": [
       "985.5"
      ]
     },
     "execution_count": 13,
     "metadata": {},
     "output_type": "execute_result"
    }
   ],
   "source": [
    "np.median(measures)"
   ]
  },
  {
   "cell_type": "markdown",
   "metadata": {
    "slideshow": {
     "slide_type": "subslide"
    }
   },
   "source": [
    "## Another alternative: Mode\n",
    "\n",
    "* mode = most common value\n",
    "* Unfortunately not in default numpy\n"
   ]
  },
  {
   "cell_type": "code",
   "execution_count": 15,
   "metadata": {},
   "outputs": [
    {
     "data": {
      "text/plain": [
       "ModeResult(mode=912, count=2)"
      ]
     },
     "execution_count": 15,
     "metadata": {},
     "output_type": "execute_result"
    }
   ],
   "source": [
    "from scipy import stats\n",
    "stats.mode(measures)"
   ]
  },
  {
   "cell_type": "markdown",
   "metadata": {},
   "source": [
    "## Calculate the mean, median and mode of your \"things\"\n",
    "\n",
    "Step 1: Just run the following cell (assumes you have some data in an np array called \"things\")"
   ]
  },
  {
   "cell_type": "code",
   "execution_count": 16,
   "metadata": {},
   "outputs": [
    {
     "name": "stdout",
     "output_type": "stream",
     "text": [
      "nan nan ModeResult(mode=nan, count=0.0)\n"
     ]
    },
    {
     "name": "stderr",
     "output_type": "stream",
     "text": [
      "/Users/cteplovs/Repos/si370fa23-student/.venv/lib/python3.11/site-packages/numpy/core/fromnumeric.py:3504: RuntimeWarning: Mean of empty slice.\n",
      "  return _methods._mean(a, axis=axis, dtype=dtype,\n",
      "/Users/cteplovs/Repos/si370fa23-student/.venv/lib/python3.11/site-packages/numpy/core/_methods.py:129: RuntimeWarning: invalid value encountered in scalar divide\n",
      "  ret = ret.dtype.type(ret / rcount)\n"
     ]
    }
   ],
   "source": [
    "from scipy import stats # just in case we didn't already do it\n",
    "\n",
    "thingsMean = np.mean(things)\n",
    "thingsMedian = np.median(things)\n",
    "thingsMode = stats.mode(things)\n",
    "\n",
    "print(thingsMean, thingsMedian, thingsMode)"
   ]
  },
  {
   "cell_type": "markdown",
   "metadata": {},
   "source": [
    "Step 2: Now, to demonstrate what happens to mean, median and mode when you add an outlier, append some crazy big value to the end of your things.  But let's not mess up our things array, so let's copy it first"
   ]
  },
  {
   "cell_type": "code",
   "execution_count": 17,
   "metadata": {
    "slideshow": {
     "slide_type": "subslide"
    }
   },
   "outputs": [
    {
     "name": "stdout",
     "output_type": "stream",
     "text": [
      "100000.0 100000.0 ModeResult(mode=100000, count=1)\n"
     ]
    }
   ],
   "source": [
    "things2 = things.copy()\n",
    "things2 = np.append(things2,[100000])\n",
    "things2Mean = np.mean(things2)\n",
    "things2Median = np.median(things2)\n",
    "things2Mode = stats.mode(things2)\n",
    "\n",
    "print(things2Mean, things2Median, things2Mode)"
   ]
  },
  {
   "cell_type": "markdown",
   "metadata": {
    "slideshow": {
     "slide_type": "slide"
    }
   },
   "source": [
    "<div style=\"width:100%;height:400px;padding:10px;background-color:#\"></div>"
   ]
  },
  {
   "cell_type": "markdown",
   "metadata": {
    "slideshow": {
     "slide_type": "slide"
    }
   },
   "source": [
    "## Measures of dispersion\n",
    "\n",
    "* Percentile cutoffs\n",
    " * Interpercentile range\n",
    "* Variance\n",
    "* Standard Deviation"
   ]
  },
  {
   "cell_type": "markdown",
   "metadata": {
    "slideshow": {
     "slide_type": "subslide"
    }
   },
   "source": [
    "## Percentiles\n",
    "\n",
    "* In a *sorted* list, find the threshold so that data is split\n",
    " * 5th percentile -- bottom 5% of measures below threshold\n",
    " * 25th percentile -- bottom 25% of measures below\n",
    " * 97th percentile -- bottom 97% of mesures below"
   ]
  },
  {
   "cell_type": "markdown",
   "metadata": {
    "slideshow": {
     "slide_type": "subslide"
    }
   },
   "source": [
    "## Numpy does this well\n",
    "\n",
    "`np.percentile(array,percentile,\n",
    "               interpolation='linear')`\n",
    "\n",
    "* linear: i + (j - i) \n",
    "* fraction, where fraction is the fractional part of the index surrounded by i and j.\n",
    "* lower: i.\n",
    "* higher: j.\n",
    "* nearest: i or j, whichever is nearest.\n",
    "* midpoint: (i + j) / 2.\n"
   ]
  },
  {
   "cell_type": "code",
   "execution_count": null,
   "metadata": {
    "slideshow": {
     "slide_type": "subslide"
    }
   },
   "outputs": [],
   "source": [
    "np.percentile(measures,25) # the 25th percentile"
   ]
  },
  {
   "cell_type": "code",
   "execution_count": null,
   "metadata": {},
   "outputs": [],
   "source": [
    "np.percentile(measures,25,interpolation='midpoint') # bump it up to the next higher real value from the data"
   ]
  },
  {
   "cell_type": "markdown",
   "metadata": {
    "slideshow": {
     "slide_type": "subslide"
    }
   },
   "source": [
    "## Interpercentile Range\n",
    "\n",
    "* Sometimes we want to some range\n",
    " * e.g., 5th -- 95th percentile\n",
    " * clearly, 90% of measures sit here"
   ]
  },
  {
   "cell_type": "code",
   "execution_count": null,
   "metadata": {},
   "outputs": [],
   "source": [
    "print(np.percentile(measures,5),\"-\",np.percentile(measures,95))"
   ]
  },
  {
   "cell_type": "markdown",
   "metadata": {
    "slideshow": {
     "slide_type": "subslide"
    }
   },
   "source": [
    "## Variance\n",
    "\n",
    "How does the data spread around the mean?\n",
    "\n",
    "$$ variance = \\frac{\\sum{(x_i - \\mu)^2}}{n}$$\n",
    "\n",
    "where, $\\mu$ is the mean\n",
    "\n",
    "$$ mu = \\frac{\\sum{x_i}}{n}$$"
   ]
  },
  {
   "cell_type": "markdown",
   "metadata": {
    "slideshow": {
     "slide_type": "subslide"
    }
   },
   "source": [
    "## Standard Deviation\n",
    "\n",
    "* Measure of dispersion \n",
    "\n",
    "![standard deviation](../assets/Standard_deviation_diagram.svg.png)\n",
    "(https://upload.wikimedia.org/wikipedia/commons/thumb/8/8c/Standard_deviation_diagram.svg/640px-Standard_deviation_diagram.svg.png \"sd\")"
   ]
  },
  {
   "cell_type": "code",
   "execution_count": null,
   "metadata": {
    "scrolled": false,
    "slideshow": {
     "slide_type": "subslide"
    }
   },
   "outputs": [],
   "source": [
    "print(np.percentile(measures,5),\"-\",np.percentile(measures,95))\n",
    "print(np.var(measures))\n",
    "print(np.std(measures))  # this should be the square root of variance"
   ]
  },
  {
   "cell_type": "markdown",
   "metadata": {},
   "source": [
    "<div style=\"width:100%;height:400px;padding:10px;background-color:#\"></div>"
   ]
  },
  {
   "cell_type": "markdown",
   "metadata": {
    "slideshow": {
     "slide_type": "slide"
    }
   },
   "source": [
    "## Quiz question:  Measures of dispersion\n",
    "Run the following cell.  Does the output for standard deviation match what you asked for when you first generated the data in Q1? What's the relationship between the 5th-to-95th percentile range and the standard deviation? Answer below"
   ]
  },
  {
   "cell_type": "code",
   "execution_count": null,
   "metadata": {
    "slideshow": {
     "slide_type": "subslide"
    }
   },
   "outputs": [],
   "source": [
    "print(np.percentile(things,2.5),\"-\",np.percentile(things,97.5))\n",
    "print(np.var(things))\n",
    "print(np.std(things))  # this should be the square root of variance"
   ]
  },
  {
   "cell_type": "markdown",
   "metadata": {},
   "source": [
    "<div style=\"width:100%;height:400px;padding:10px;background-color:#\"></div>"
   ]
  },
  {
   "cell_type": "markdown",
   "metadata": {
    "slideshow": {
     "slide_type": "slide"
    }
   },
   "source": [
    "# Visualizing data with Seaborn\n",
    "* Visualization package built on top of matplotlib\n",
    "* It's meant to make your life better\n",
    "* Plays well with pandas, numpy, scipy, and statsmodels\n",
    "* Many different visualization are included:\n",
    " * Strip plots, Swarm plots, Violin plots\n",
    " * Box plots\n",
    " * Histograms\n",
    " \n",
    " We need to import the package, and it's typically imported as sns:\n",
    " \n",
    " ```\n",
    " import seaborn as sns\n",
    " ``` \n",
    " \n",
    " and don't forget to inline matplotlib (that's a jupyter thing):\n",
    "\n",
    " ```\n",
    " %matplotlib inline\n",
    " ```\n",
    "\n",
    "[seaborn.pydata.org](http://seaborn.pydata.org)\n",
    "\n",
    "How about [some examples](http://seaborn.pydata.org/examples/index.html)?"
   ]
  },
  {
   "cell_type": "code",
   "execution_count": null,
   "metadata": {
    "slideshow": {
     "slide_type": "subslide"
    }
   },
   "outputs": [],
   "source": [
    "import seaborn as sns"
   ]
  },
  {
   "cell_type": "markdown",
   "metadata": {
    "slideshow": {
     "slide_type": "subslide"
    }
   },
   "source": [
    "## Strip Plot"
   ]
  },
  {
   "cell_type": "code",
   "execution_count": null,
   "metadata": {},
   "outputs": [],
   "source": [
    "%matplotlib inline"
   ]
  },
  {
   "cell_type": "code",
   "execution_count": null,
   "metadata": {
    "slideshow": {
     "slide_type": "-"
    }
   },
   "outputs": [],
   "source": [
    "sns.stripplot(x=measures)"
   ]
  },
  {
   "cell_type": "markdown",
   "metadata": {
    "slideshow": {
     "slide_type": "subslide"
    }
   },
   "source": [
    "## Swarm Plot"
   ]
  },
  {
   "cell_type": "code",
   "execution_count": null,
   "metadata": {
    "scrolled": true
   },
   "outputs": [],
   "source": [
    "sns.swarmplot(x=measures)"
   ]
  },
  {
   "cell_type": "markdown",
   "metadata": {
    "slideshow": {
     "slide_type": "subslide"
    }
   },
   "source": [
    "## Violin Plot\n",
    "* If we have too much data"
   ]
  },
  {
   "cell_type": "code",
   "execution_count": null,
   "metadata": {},
   "outputs": [],
   "source": [
    "sns.violinplot(x=measures,color=\"#d7d0f3\")"
   ]
  },
  {
   "cell_type": "markdown",
   "metadata": {
    "slideshow": {
     "slide_type": "subslide"
    }
   },
   "source": [
    "## Box Plot"
   ]
  },
  {
   "cell_type": "code",
   "execution_count": null,
   "metadata": {
    "slideshow": {
     "slide_type": "-"
    }
   },
   "outputs": [],
   "source": [
    "sns.boxplot(x=measures) "
   ]
  },
  {
   "cell_type": "markdown",
   "metadata": {
    "slideshow": {
     "slide_type": "subslide"
    }
   },
   "source": [
    "Here's a quick explanation of what a box and whisker plot means:\n",
    "![d](../assets/boxplot.png \"boxplot\")"
   ]
  },
  {
   "cell_type": "markdown",
   "metadata": {
    "slideshow": {
     "slide_type": "subslide"
    }
   },
   "source": [
    "## Histogram\n",
    "\n",
    "We're going to use this a lot.  Seaborn puts a nice smooth line over a distribution.  We'll talk about that soon, but for now just think about it as an extrapolation:  if we had a bunch more data, the distribution would eventually smooth out to something that looks like the line."
   ]
  },
  {
   "cell_type": "code",
   "execution_count": null,
   "metadata": {
    "slideshow": {
     "slide_type": "subslide"
    }
   },
   "outputs": [],
   "source": [
    "# x axis = value, y axis = count (frequency)\n",
    "sns.distplot(measures) "
   ]
  },
  {
   "cell_type": "code",
   "execution_count": null,
   "metadata": {
    "slideshow": {
     "slide_type": "subslide"
    }
   },
   "outputs": [],
   "source": [
    "sns.distplot(measures, rug=True); # show a strip plot on bottom -- we call it a \"rug\""
   ]
  },
  {
   "cell_type": "markdown",
   "metadata": {
    "slideshow": {
     "slide_type": "slide"
    }
   },
   "source": [
    "\n",
    "Your turn:  run the following cells on your data to generate the plots described above.  "
   ]
  },
  {
   "cell_type": "code",
   "execution_count": null,
   "metadata": {
    "scrolled": false,
    "slideshow": {
     "slide_type": "subslide"
    }
   },
   "outputs": [],
   "source": [
    "%matplotlib inline\n",
    "\n",
    "import seaborn as sns  # you might need to do: conda install seaborn\n",
    "import matplotlib.pyplot as plt\n"
   ]
  },
  {
   "cell_type": "code",
   "execution_count": null,
   "metadata": {
    "scrolled": true,
    "slideshow": {
     "slide_type": "subslide"
    }
   },
   "outputs": [],
   "source": [
    "sns.stripplot(x=things)"
   ]
  },
  {
   "cell_type": "code",
   "execution_count": null,
   "metadata": {
    "slideshow": {
     "slide_type": "subslide"
    }
   },
   "outputs": [],
   "source": [
    "sns.swarmplot(x=things)"
   ]
  },
  {
   "cell_type": "code",
   "execution_count": null,
   "metadata": {
    "slideshow": {
     "slide_type": "subslide"
    }
   },
   "outputs": [],
   "source": [
    "sns.violinplot(x=things)"
   ]
  },
  {
   "cell_type": "code",
   "execution_count": null,
   "metadata": {
    "scrolled": false,
    "slideshow": {
     "slide_type": "subslide"
    }
   },
   "outputs": [],
   "source": [
    "sns.boxplot(x=things)"
   ]
  },
  {
   "cell_type": "code",
   "execution_count": null,
   "metadata": {
    "scrolled": true,
    "slideshow": {
     "slide_type": "subslide"
    }
   },
   "outputs": [],
   "source": [
    "sns.distplot(things,kde=True)"
   ]
  },
  {
   "cell_type": "code",
   "execution_count": null,
   "metadata": {
    "slideshow": {
     "slide_type": "subslide"
    }
   },
   "outputs": [],
   "source": [
    "sns.distplot(things,kde=True)"
   ]
  },
  {
   "cell_type": "markdown",
   "metadata": {},
   "source": [
    "<div style=\"width:100%;height:400px;padding:10px;background-color:#\"></div>"
   ]
  },
  {
   "cell_type": "markdown",
   "metadata": {
    "slideshow": {
     "slide_type": "subslide"
    }
   },
   "source": [
    "## Expressiveness, Effectiveness, Scale\n",
    "\n",
    "* Expressiveness\n",
    " * What facts can we extract?\n",
    " * What facts *can't* we extract?\n",
    "* How well can we extract them?\n",
    "* How do they work with more data?\n",
    " * Consider different dimensions\n",
    " * More samples\n",
    " * More univariate data"
   ]
  },
  {
   "cell_type": "markdown",
   "metadata": {
    "slideshow": {
     "slide_type": "slide"
    }
   },
   "source": [
    "## Why do we care about distributions?\n",
    "## World is not normal\n",
    "* Many other kinds of distributions\n",
    "* We can tell what they are by looking at distribution"
   ]
  },
  {
   "cell_type": "markdown",
   "metadata": {
    "slideshow": {
     "slide_type": "subslide"
    }
   },
   "source": [
    "## Uniform"
   ]
  },
  {
   "cell_type": "code",
   "execution_count": null,
   "metadata": {},
   "outputs": [],
   "source": [
    "uniform = np.random.uniform(-2,2,1000)  # low,high,count\n",
    "sns.distplot(uniform,kde=False,norm_hist=True)"
   ]
  },
  {
   "cell_type": "markdown",
   "metadata": {
    "slideshow": {
     "slide_type": "subslide"
    }
   },
   "source": [
    "## Bimodal"
   ]
  },
  {
   "cell_type": "code",
   "execution_count": null,
   "metadata": {},
   "outputs": [],
   "source": [
    "bimodal = np.append(np.random.normal(-20,10,100),\n",
    "                    np.random.normal(20,10,100))\n",
    "sns.distplot(bimodal,kde=False,norm_hist=True)"
   ]
  },
  {
   "cell_type": "markdown",
   "metadata": {
    "slideshow": {
     "slide_type": "subslide"
    }
   },
   "source": [
    "# Poisson"
   ]
  },
  {
   "cell_type": "markdown",
   "metadata": {},
   "source": [
    "$$ P(k~events~in~interval) = \\frac{\\lambda^ke^{-\\lambda}}{k!} $$\n",
    "\n",
    "$\\lambda$ is the event rate\n",
    "\n",
    "Examples\n",
    "* Meteor strikes\n",
    "* Arrival of patients to hospital"
   ]
  },
  {
   "cell_type": "code",
   "execution_count": null,
   "metadata": {
    "slideshow": {
     "slide_type": "subslide"
    }
   },
   "outputs": [],
   "source": [
    "# as lambda goes up --> looks more normal\n",
    "pois = np.random.poisson(7,100000) # lambda, count \n",
    "sns.distplot(pois,kde=False,bins=10,norm_hist=True)"
   ]
  },
  {
   "cell_type": "markdown",
   "metadata": {
    "slideshow": {
     "slide_type": "subslide"
    }
   },
   "source": [
    "# Power/Zipf/Pareto\n",
    "\n",
    "$$ P = \\frac{x^{-a}}{\\zeta(a)}$$\n",
    "\n",
    "\"long tail\"\n",
    "* degree distribution\n",
    "* movie/music popularity\n",
    "* words\n",
    "\n",
    "## Note:  both axes are log-transformed"
   ]
  },
  {
   "cell_type": "code",
   "execution_count": null,
   "metadata": {},
   "outputs": [],
   "source": [
    "import numpy as np\n",
    "import matplotlib.pyplot as plt\n",
    "import pandas as pd"
   ]
  },
  {
   "cell_type": "code",
   "execution_count": null,
   "metadata": {
    "scrolled": true,
    "slideshow": {
     "slide_type": "subslide"
    }
   },
   "outputs": [],
   "source": [
    "# bit of a hack (seaborn)\n",
    "import random\n",
    "np.random.seed(4200)\n",
    "power = np.random.zipf(3,100000)\n",
    "ax = plt.plot(np.histogram(power,bins=200)[0])\n",
    "ax[0].axes.set_xscale(\"log\")\n",
    "ax[0].axes.set_yscale(\"log\")"
   ]
  },
  {
   "cell_type": "markdown",
   "metadata": {},
   "source": [
    "<div style=\"width:100%;height:400px;padding:10px;background-color:#\"></div>"
   ]
  },
  {
   "cell_type": "markdown",
   "metadata": {
    "slideshow": {
     "slide_type": "slide"
    }
   },
   "source": [
    "## Visual Tests on Data"
   ]
  },
  {
   "cell_type": "code",
   "execution_count": null,
   "metadata": {
    "slideshow": {
     "slide_type": "subslide"
    }
   },
   "outputs": [],
   "source": [
    "testdata = (np.random.standard_normal(500)*20+150).astype(int)\n",
    "sns.distplot(testdata)"
   ]
  },
  {
   "cell_type": "markdown",
   "metadata": {
    "slideshow": {
     "slide_type": "subslide"
    }
   },
   "source": [
    "## Run Sequence\n",
    "* Run Sequence (index versus value)\n",
    "* flat and non-drifting\n",
    " * fixed-location assumption holds\n",
    "* vertical spread same over the entire plot, \n",
    " * then the fixed-variation assumption holds."
   ]
  },
  {
   "cell_type": "code",
   "execution_count": null,
   "metadata": {
    "slideshow": {
     "slide_type": "subslide"
    }
   },
   "outputs": [],
   "source": [
    "ax = sns.regplot(np.arange(len(testdata)),testdata,fit_reg=False)\n",
    "ax.set_ylim(0,250)\n",
    "ax.set_ylabel(\"val\")\n",
    "ax.set_xlabel(\"i\")"
   ]
  },
  {
   "cell_type": "code",
   "execution_count": null,
   "metadata": {
    "slideshow": {
     "slide_type": "subslide"
    }
   },
   "outputs": [],
   "source": [
    "drifting = np.array([testdata[i]+i*(.1) for i in np.arange(len(testdata))])\n",
    "sns.distplot(drifting,kde=False)"
   ]
  },
  {
   "cell_type": "code",
   "execution_count": null,
   "metadata": {
    "slideshow": {
     "slide_type": "subslide"
    }
   },
   "outputs": [],
   "source": [
    "ax = sns.regplot(np.arange(len(drifting)),drifting,fit_reg=False)\n",
    "ax.set_ylim(0,300)\n",
    "ax.set_ylabel(\"val\")\n",
    "ax.set_xlabel(\"i\")"
   ]
  },
  {
   "cell_type": "code",
   "execution_count": null,
   "metadata": {
    "slideshow": {
     "slide_type": "subslide"
    }
   },
   "outputs": [],
   "source": [
    "expanding = np.array([(testdata[i]+i*np.random.randint(-1,1)*.2)\n",
    "                     for i in np.arange(len(testdata))])\n",
    "sns.distplot(expanding,kde=False,norm_hist=True)"
   ]
  },
  {
   "cell_type": "code",
   "execution_count": null,
   "metadata": {
    "slideshow": {
     "slide_type": "subslide"
    }
   },
   "outputs": [],
   "source": [
    "ax = sns.regplot(np.arange(len(expanding)),expanding,fit_reg=False)\n",
    "ax.set_ylim(0,300)\n",
    "ax.set_ylabel(\"val\")\n",
    "ax.set_xlabel(\"i\")"
   ]
  },
  {
   "cell_type": "markdown",
   "metadata": {
    "slideshow": {
     "slide_type": "subslide"
    }
   },
   "source": [
    "# Lag Plot\n",
    "\n",
    "* Plot point $y_i$ versus $y_{i-1}$\n",
    "* If the lag plot is structureless\n",
    " * randomness assumption holds."
   ]
  },
  {
   "cell_type": "code",
   "execution_count": null,
   "metadata": {
    "slideshow": {
     "slide_type": "subslide"
    }
   },
   "outputs": [],
   "source": [
    "lag = testdata.copy()\n",
    "lag = np.array(lag[:-1])\n",
    "current = testdata[1:]\n",
    "ax = sns.regplot(current,lag,fit_reg=False)\n",
    "ax.set_ylabel(\"y_i-1\")\n",
    "ax.set_xlabel(\"y_i\")"
   ]
  },
  {
   "cell_type": "code",
   "execution_count": null,
   "metadata": {
    "slideshow": {
     "slide_type": "subslide"
    }
   },
   "outputs": [],
   "source": [
    "connected = np.array([testdata[i]+testdata[i-1] for i in np.arange(500)])\n",
    "sns.distplot(connected,kde=False,norm_hist=True)"
   ]
  },
  {
   "cell_type": "code",
   "execution_count": null,
   "metadata": {
    "slideshow": {
     "slide_type": "subslide"
    }
   },
   "outputs": [],
   "source": [
    "lag = connected.copy()\n",
    "lag = np.array(lag[:-1])\n",
    "current = connected[1:]\n",
    "ax = sns.regplot(current,lag,fit_reg=False)\n",
    "ax.set_ylabel(\"y_i-1\")\n",
    "ax.set_xlabel(\"y_i\")"
   ]
  },
  {
   "cell_type": "markdown",
   "metadata": {
    "slideshow": {
     "slide_type": "slide"
    }
   },
   "source": [
    "## QQ Plot\n",
    "* QQ Plots takes our n ordered data points\n",
    " * sorted from smallest to largest\n",
    "* Asks:\n",
    " * What is the relationship between quantiles from our data and quantiles from a theoretical distribution that we're assuming the sample is drawn from"
   ]
  },
  {
   "cell_type": "code",
   "execution_count": null,
   "metadata": {
    "slideshow": {
     "slide_type": "subslide"
    }
   },
   "outputs": [],
   "source": [
    "qntls, xr = stats.probplot(testdata, fit=False)\n",
    "sns.regplot(xr,qntls)"
   ]
  },
  {
   "cell_type": "code",
   "execution_count": null,
   "metadata": {
    "slideshow": {
     "slide_type": "subslide"
    }
   },
   "outputs": [],
   "source": [
    "def random_snorm(n, mean = 0, sd = 1, xi = 1.5):\n",
    "    def random_snorm_aux(n, xi):\n",
    "        weight = xi/(xi + 1/xi)\n",
    "        z = np.random.uniform(-weight,1-weight,n)\n",
    "        xi_ = xi**np.sign(z)\n",
    "        random = -np.absolute(np.random.normal(0,1,n))/xi_ * np.sign(z)\n",
    "        m1 = 2/np.sqrt(2 * np.pi)\n",
    "        mu = m1 * (xi - 1/xi)\n",
    "        sigma = np.sqrt((1 - m1**2) * (xi**2 + 1/xi**2) + 2 * m1**2 - 1)\n",
    "        return (random - mu)/sigma\n",
    "\n",
    "    return random_snorm_aux(n, xi) * sd + mean\n"
   ]
  },
  {
   "cell_type": "code",
   "execution_count": null,
   "metadata": {
    "slideshow": {
     "slide_type": "subslide"
    }
   },
   "outputs": [],
   "source": [
    "rightskewed = random_snorm(1000,xi=2)*100\n",
    "sns.distplot(rightskewed,kde=False)"
   ]
  },
  {
   "cell_type": "code",
   "execution_count": null,
   "metadata": {
    "slideshow": {
     "slide_type": "subslide"
    }
   },
   "outputs": [],
   "source": [
    "qntls, xr = stats.probplot(rightskewed, fit=False)\n",
    "sns.regplot(xr,qntls)"
   ]
  },
  {
   "cell_type": "code",
   "execution_count": null,
   "metadata": {
    "slideshow": {
     "slide_type": "subslide"
    }
   },
   "outputs": [],
   "source": [
    "leftskewed = random_snorm(1000,xi=-2)*100\n",
    "sns.distplot(leftskewed,kde=False)"
   ]
  },
  {
   "cell_type": "code",
   "execution_count": null,
   "metadata": {
    "slideshow": {
     "slide_type": "subslide"
    }
   },
   "outputs": [],
   "source": [
    "qntls, xr = stats.probplot(leftskewed, fit=False)\n",
    "sns.regplot(xr,qntls)"
   ]
  },
  {
   "cell_type": "markdown",
   "metadata": {
    "slideshow": {
     "slide_type": "slide"
    }
   },
   "source": [
    "## Now the serious plots... let's wrap them in a single function that we can call"
   ]
  },
  {
   "cell_type": "code",
   "execution_count": null,
   "metadata": {
    "slideshow": {
     "slide_type": "subslide"
    }
   },
   "outputs": [],
   "source": [
    "def multiplePlots( series ):\n",
    "    \n",
    "    fig, axs = plt.subplots(2,2)\n",
    "    plt.tight_layout(pad=0.4, w_pad=4, h_pad=1.0)\n",
    "\n",
    "    # Histogram\n",
    "    sns.distplot(series, ax=axs[0,0])\n",
    "    \n",
    "    # Lag plot\n",
    "    lag = series.copy()\n",
    "    lag = np.array(lag[:-1])\n",
    "    current = series[1:]\n",
    "    ax = sns.regplot(current,lag,fit_reg=False, ax=axs[0,1])\n",
    "    ax.set_ylabel(\"y_i-1\")\n",
    "    ax.set_xlabel(\"y_i\")\n",
    "    \n",
    "    # QQ plot\n",
    "    qntls, xr = stats.probplot(series, fit=False)\n",
    "    sns.regplot(xr,qntls, ax=axs[1,0])\n",
    "    \n",
    "    # Run sequence\n",
    "    ax = sns.regplot(np.arange(len(series)),series, ax=axs[1,1])\n",
    "    ax.set_ylabel(\"val\")\n",
    "    ax.set_xlabel(\"i\")\n"
   ]
  },
  {
   "cell_type": "markdown",
   "metadata": {
    "slideshow": {
     "slide_type": "subslide"
    }
   },
   "source": [
    "## Now run this on your \"things\""
   ]
  },
  {
   "cell_type": "code",
   "execution_count": null,
   "metadata": {
    "scrolled": true,
    "slideshow": {
     "slide_type": "subslide"
    }
   },
   "outputs": [],
   "source": [
    "multiplePlots(bimodal)"
   ]
  },
  {
   "cell_type": "markdown",
   "metadata": {
    "slideshow": {
     "slide_type": "subslide"
    }
   },
   "source": [
    "## <font color=\"red\"><a href=\"https://www.theguardian.com/news/datablog/2010/jul/16/data-plural-singular\">Do your data look normally distributed?</a></font>"
   ]
  },
  {
   "cell_type": "markdown",
   "metadata": {
    "slideshow": {
     "slide_type": "slide"
    }
   },
   "source": [
    "# Univariate Data -- Summary\n",
    "* Simple but valuable\n",
    "* We want to know how data is distributed\n",
    "* How does it fit known models/distributions\n",
    "* When does it not?\n",
    " * Visual and analytical tests"
   ]
  },
  {
   "cell_type": "markdown",
   "metadata": {
    "slideshow": {
     "slide_type": "slide"
    }
   },
   "source": [
    "<div style=\"width:100%;height:400px;padding:10px;background-color:#\"></div>"
   ]
  },
  {
   "cell_type": "code",
   "execution_count": null,
   "metadata": {},
   "outputs": [],
   "source": []
  }
 ],
 "metadata": {
  "celltoolbar": "Slideshow",
  "kernelspec": {
   "display_name": "Python 3",
   "language": "python",
   "name": "python3"
  },
  "language_info": {
   "codemirror_mode": {
    "name": "ipython",
    "version": 3
   },
   "file_extension": ".py",
   "mimetype": "text/x-python",
   "name": "python",
   "nbconvert_exporter": "python",
   "pygments_lexer": "ipython3",
   "version": "3.11.4"
  },
  "livereveal": {
   "start_slideshow_at": "selected"
  }
 },
 "nbformat": 4,
 "nbformat_minor": 2
}
